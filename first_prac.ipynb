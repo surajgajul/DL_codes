{
 "cells": [
  {
   "cell_type": "code",
   "execution_count": 1,
   "id": "62046245",
   "metadata": {},
   "outputs": [],
   "source": [
    "import pandas as pd\n",
    "import numpy as np"
   ]
  },
  {
   "cell_type": "code",
   "execution_count": 2,
   "id": "3f39b953",
   "metadata": {},
   "outputs": [
    {
     "data": {
      "text/html": [
       "<div>\n",
       "<style scoped>\n",
       "    .dataframe tbody tr th:only-of-type {\n",
       "        vertical-align: middle;\n",
       "    }\n",
       "\n",
       "    .dataframe tbody tr th {\n",
       "        vertical-align: top;\n",
       "    }\n",
       "\n",
       "    .dataframe thead th {\n",
       "        text-align: right;\n",
       "    }\n",
       "</style>\n",
       "<table border=\"1\" class=\"dataframe\">\n",
       "  <thead>\n",
       "    <tr style=\"text-align: right;\">\n",
       "      <th></th>\n",
       "      <th>crim</th>\n",
       "      <th>zn</th>\n",
       "      <th>indus</th>\n",
       "      <th>chas</th>\n",
       "      <th>nox</th>\n",
       "      <th>rm</th>\n",
       "      <th>age</th>\n",
       "      <th>dis</th>\n",
       "      <th>rad</th>\n",
       "      <th>tax</th>\n",
       "      <th>ptratio</th>\n",
       "      <th>b</th>\n",
       "      <th>lstat</th>\n",
       "      <th>medv</th>\n",
       "    </tr>\n",
       "  </thead>\n",
       "  <tbody>\n",
       "    <tr>\n",
       "      <th>0</th>\n",
       "      <td>0.00632</td>\n",
       "      <td>18.0</td>\n",
       "      <td>2.31</td>\n",
       "      <td>0</td>\n",
       "      <td>0.538</td>\n",
       "      <td>6.575</td>\n",
       "      <td>65.2</td>\n",
       "      <td>4.0900</td>\n",
       "      <td>1</td>\n",
       "      <td>296</td>\n",
       "      <td>15.3</td>\n",
       "      <td>396.90</td>\n",
       "      <td>4.98</td>\n",
       "      <td>24.0</td>\n",
       "    </tr>\n",
       "    <tr>\n",
       "      <th>1</th>\n",
       "      <td>0.02731</td>\n",
       "      <td>0.0</td>\n",
       "      <td>7.07</td>\n",
       "      <td>0</td>\n",
       "      <td>0.469</td>\n",
       "      <td>6.421</td>\n",
       "      <td>78.9</td>\n",
       "      <td>4.9671</td>\n",
       "      <td>2</td>\n",
       "      <td>242</td>\n",
       "      <td>17.8</td>\n",
       "      <td>396.90</td>\n",
       "      <td>9.14</td>\n",
       "      <td>21.6</td>\n",
       "    </tr>\n",
       "    <tr>\n",
       "      <th>2</th>\n",
       "      <td>0.02729</td>\n",
       "      <td>0.0</td>\n",
       "      <td>7.07</td>\n",
       "      <td>0</td>\n",
       "      <td>0.469</td>\n",
       "      <td>7.185</td>\n",
       "      <td>61.1</td>\n",
       "      <td>4.9671</td>\n",
       "      <td>2</td>\n",
       "      <td>242</td>\n",
       "      <td>17.8</td>\n",
       "      <td>392.83</td>\n",
       "      <td>4.03</td>\n",
       "      <td>34.7</td>\n",
       "    </tr>\n",
       "    <tr>\n",
       "      <th>3</th>\n",
       "      <td>0.03237</td>\n",
       "      <td>0.0</td>\n",
       "      <td>2.18</td>\n",
       "      <td>0</td>\n",
       "      <td>0.458</td>\n",
       "      <td>6.998</td>\n",
       "      <td>45.8</td>\n",
       "      <td>6.0622</td>\n",
       "      <td>3</td>\n",
       "      <td>222</td>\n",
       "      <td>18.7</td>\n",
       "      <td>394.63</td>\n",
       "      <td>2.94</td>\n",
       "      <td>33.4</td>\n",
       "    </tr>\n",
       "    <tr>\n",
       "      <th>4</th>\n",
       "      <td>0.06905</td>\n",
       "      <td>0.0</td>\n",
       "      <td>2.18</td>\n",
       "      <td>0</td>\n",
       "      <td>0.458</td>\n",
       "      <td>7.147</td>\n",
       "      <td>54.2</td>\n",
       "      <td>6.0622</td>\n",
       "      <td>3</td>\n",
       "      <td>222</td>\n",
       "      <td>18.7</td>\n",
       "      <td>396.90</td>\n",
       "      <td>5.33</td>\n",
       "      <td>36.2</td>\n",
       "    </tr>\n",
       "  </tbody>\n",
       "</table>\n",
       "</div>"
      ],
      "text/plain": [
       "      crim    zn  indus  chas    nox     rm   age     dis  rad  tax  ptratio  \\\n",
       "0  0.00632  18.0   2.31     0  0.538  6.575  65.2  4.0900    1  296     15.3   \n",
       "1  0.02731   0.0   7.07     0  0.469  6.421  78.9  4.9671    2  242     17.8   \n",
       "2  0.02729   0.0   7.07     0  0.469  7.185  61.1  4.9671    2  242     17.8   \n",
       "3  0.03237   0.0   2.18     0  0.458  6.998  45.8  6.0622    3  222     18.7   \n",
       "4  0.06905   0.0   2.18     0  0.458  7.147  54.2  6.0622    3  222     18.7   \n",
       "\n",
       "        b  lstat  medv  \n",
       "0  396.90   4.98  24.0  \n",
       "1  396.90   9.14  21.6  \n",
       "2  392.83   4.03  34.7  \n",
       "3  394.63   2.94  33.4  \n",
       "4  396.90   5.33  36.2  "
      ]
     },
     "execution_count": 2,
     "metadata": {},
     "output_type": "execute_result"
    }
   ],
   "source": [
    "df=pd.read_csv(\"BostonHousing.csv\")\n",
    "df.head()"
   ]
  },
  {
   "cell_type": "code",
   "execution_count": 3,
   "id": "848c2361",
   "metadata": {},
   "outputs": [
    {
     "data": {
      "text/plain": [
       "<AxesSubplot: >"
      ]
     },
     "execution_count": 3,
     "metadata": {},
     "output_type": "execute_result"
    },
    {
     "data": {
      "image/png": "[encoded data removed]",
      "text/plain": [
       "<Figure size 640x480 with 2 Axes>"
      ]
     },
     "metadata": {},
     "output_type": "display_data"
    }
   ],
   "source": [
    "import seaborn as sns\n",
    "corr=df.corr()\n",
    "sns.heatmap(corr, annot=False, cmap='coolwarm')"
   ]
  },
  {
   "cell_type": "code",
   "execution_count": 4,
   "id": "ae78d325",
   "metadata": {},
   "outputs": [],
   "source": [
    "X=df.drop('medv', axis=1)\n",
    "y=df['medv']"
   ]
  },
  {
   "cell_type": "code",
   "execution_count": 5,
   "id": "aa934dff",
   "metadata": {},
   "outputs": [],
   "source": [
    "from sklearn.model_selection import train_test_split\n",
    "X_train, X_test, y_train, y_test=train_test_split(X, y, test_size=0.2, random_state=42)"
   ]
  },
  {
   "cell_type": "code",
   "execution_count": 6,
   "id": "667006bd",
   "metadata": {},
   "outputs": [],
   "source": [
    "from sklearn.preprocessing import StandardScaler\n",
    "scaler=StandardScaler()\n",
    "X_train_scaled=scaler.fit_transform(X_train)\n",
    "X_test_scaled=scaler.transform(X_test)"
   ]
  },
  {
   "cell_type": "code",
   "execution_count": 7,
   "id": "75350786",
   "metadata": {},
   "outputs": [],
   "source": [
    "from tensorflow.keras.models import Sequential\n",
    "from tensorflow.keras.layers import Dense\n",
    "\n",
    "model=Sequential([\n",
    "    Dense(256, activation='relu', input_shape=(X_train_scaled.shape[1],)),\n",
    "    Dense(128, activation='relu'),\n",
    "    Dense(64, activation='relu'),\n",
    "    Dense(1)\n",
    "])"
   ]
  },
  {
   "cell_type": "code",
   "execution_count": 8,
   "id": "cc35fcf2",
   "metadata": {},
   "outputs": [
    {
     "name": "stdout",
     "output_type": "stream",
     "text": [
      "Epoch 1/100\n",
      "13/13 [==============================] - 1s 4ms/step - loss: 559.2890\n",
      "Epoch 2/100\n",
      "13/13 [==============================] - 0s 4ms/step - loss: 355.0206\n",
      "Epoch 3/100\n",
      "13/13 [==============================] - 0s 4ms/step - loss: 112.3910\n",
      "Epoch 4/100\n",
      "13/13 [==============================] - 0s 3ms/step - loss: 57.5266\n",
      "Epoch 5/100\n",
      "13/13 [==============================] - 0s 3ms/step - loss: 27.2921\n",
      "Epoch 6/100\n",
      "13/13 [==============================] - 0s 3ms/step - loss: 22.0751\n",
      "Epoch 7/100\n",
      "13/13 [==============================] - 0s 4ms/step - loss: 19.3569\n",
      "Epoch 8/100\n",
      "13/13 [==============================] - 0s 3ms/step - loss: 17.7513\n",
      "Epoch 9/100\n",
      "13/13 [==============================] - 0s 2ms/step - loss: 16.2992\n",
      "Epoch 10/100\n",
      "13/13 [==============================] - 0s 3ms/step - loss: 15.5094\n",
      "Epoch 11/100\n",
      "13/13 [==============================] - 0s 3ms/step - loss: 14.5884\n",
      "Epoch 12/100\n",
      "13/13 [==============================] - 0s 3ms/step - loss: 14.0472\n",
      "Epoch 13/100\n",
      "13/13 [==============================] - 0s 3ms/step - loss: 13.1368\n",
      "Epoch 14/100\n",
      "13/13 [==============================] - 0s 3ms/step - loss: 12.6485\n",
      "Epoch 15/100\n",
      "13/13 [==============================] - 0s 3ms/step - loss: 12.4959\n",
      "Epoch 16/100\n",
      "13/13 [==============================] - 0s 3ms/step - loss: 11.8586\n",
      "Epoch 17/100\n",
      "13/13 [==============================] - 0s 4ms/step - loss: 11.5094\n",
      "Epoch 18/100\n",
      "13/13 [==============================] - 0s 3ms/step - loss: 11.2051\n",
      "Epoch 19/100\n",
      "13/13 [==============================] - 0s 3ms/step - loss: 10.9489\n",
      "Epoch 20/100\n",
      "13/13 [==============================] - 0s 3ms/step - loss: 10.6387\n",
      "Epoch 21/100\n",
      "13/13 [==============================] - 0s 4ms/step - loss: 10.5635\n",
      "Epoch 22/100\n",
      "13/13 [==============================] - 0s 3ms/step - loss: 10.1569\n",
      "Epoch 23/100\n",
      "13/13 [==============================] - 0s 3ms/step - loss: 9.9445\n",
      "Epoch 24/100\n",
      "13/13 [==============================] - 0s 4ms/step - loss: 9.6647\n",
      "Epoch 25/100\n",
      "13/13 [==============================] - 0s 3ms/step - loss: 9.4340\n",
      "Epoch 26/100\n",
      "13/13 [==============================] - 0s 3ms/step - loss: 9.3982\n",
      "Epoch 27/100\n",
      "13/13 [==============================] - 0s 4ms/step - loss: 9.2387\n",
      "Epoch 28/100\n",
      "13/13 [==============================] - 0s 4ms/step - loss: 8.9119\n",
      "Epoch 29/100\n",
      "13/13 [==============================] - 0s 3ms/step - loss: 8.7208\n",
      "Epoch 30/100\n",
      "13/13 [==============================] - 0s 3ms/step - loss: 8.6816\n",
      "Epoch 31/100\n",
      "13/13 [==============================] - 0s 3ms/step - loss: 8.2923\n",
      "Epoch 32/100\n",
      "13/13 [==============================] - 0s 4ms/step - loss: 9.0476\n",
      "Epoch 33/100\n",
      "13/13 [==============================] - 0s 4ms/step - loss: 7.9425\n",
      "Epoch 34/100\n",
      "13/13 [==============================] - 0s 3ms/step - loss: 7.9389\n",
      "Epoch 35/100\n",
      "13/13 [==============================] - 0s 3ms/step - loss: 7.7623\n",
      "Epoch 36/100\n",
      "13/13 [==============================] - 0s 4ms/step - loss: 7.6719\n",
      "Epoch 37/100\n",
      "13/13 [==============================] - 0s 5ms/step - loss: 7.7030\n",
      "Epoch 38/100\n",
      "13/13 [==============================] - 0s 4ms/step - loss: 7.0371\n",
      "Epoch 39/100\n",
      "13/13 [==============================] - 0s 4ms/step - loss: 7.0187\n",
      "Epoch 40/100\n",
      "13/13 [==============================] - 0s 3ms/step - loss: 6.8118\n",
      "Epoch 41/100\n",
      "13/13 [==============================] - 0s 3ms/step - loss: 6.9557\n",
      "Epoch 42/100\n",
      "13/13 [==============================] - 0s 3ms/step - loss: 6.6213\n",
      "Epoch 43/100\n",
      "13/13 [==============================] - 0s 4ms/step - loss: 6.5420\n",
      "Epoch 44/100\n",
      "13/13 [==============================] - 0s 3ms/step - loss: 6.1981\n",
      "Epoch 45/100\n",
      "13/13 [==============================] - 0s 7ms/step - loss: 6.1056\n",
      "Epoch 46/100\n",
      "13/13 [==============================] - 0s 4ms/step - loss: 6.1658\n",
      "Epoch 47/100\n",
      "13/13 [==============================] - 0s 4ms/step - loss: 6.3139\n",
      "Epoch 48/100\n",
      "13/13 [==============================] - 0s 4ms/step - loss: 5.8917\n",
      "Epoch 49/100\n",
      "13/13 [==============================] - 0s 4ms/step - loss: 5.6498\n",
      "Epoch 50/100\n",
      "13/13 [==============================] - 0s 4ms/step - loss: 5.5193\n",
      "Epoch 51/100\n",
      "13/13 [==============================] - 0s 4ms/step - loss: 5.3629\n",
      "Epoch 52/100\n",
      "13/13 [==============================] - 0s 3ms/step - loss: 5.1493\n",
      "Epoch 53/100\n",
      "13/13 [==============================] - 0s 4ms/step - loss: 5.2578\n",
      "Epoch 54/100\n",
      "13/13 [==============================] - 0s 3ms/step - loss: 5.2263\n",
      "Epoch 55/100\n",
      "13/13 [==============================] - 0s 4ms/step - loss: 5.2200\n",
      "Epoch 56/100\n",
      "13/13 [==============================] - 0s 4ms/step - loss: 4.8225\n",
      "Epoch 57/100\n",
      "13/13 [==============================] - 0s 3ms/step - loss: 5.0816\n",
      "Epoch 58/100\n",
      "13/13 [==============================] - 0s 3ms/step - loss: 4.7865\n",
      "Epoch 59/100\n",
      "13/13 [==============================] - 0s 4ms/step - loss: 4.6807\n",
      "Epoch 60/100\n",
      "13/13 [==============================] - 0s 3ms/step - loss: 4.5697\n",
      "Epoch 61/100\n",
      "13/13 [==============================] - 0s 6ms/step - loss: 4.6213\n",
      "Epoch 62/100\n",
      "13/13 [==============================] - 0s 3ms/step - loss: 4.6202\n",
      "Epoch 63/100\n",
      "13/13 [==============================] - 0s 3ms/step - loss: 4.7562\n",
      "Epoch 64/100\n",
      "13/13 [==============================] - 0s 5ms/step - loss: 4.9507\n",
      "Epoch 65/100\n",
      "13/13 [==============================] - 0s 6ms/step - loss: 4.4451\n",
      "Epoch 66/100\n",
      "13/13 [==============================] - 0s 4ms/step - loss: 4.2376\n",
      "Epoch 67/100\n",
      "13/13 [==============================] - 0s 4ms/step - loss: 4.1738\n",
      "Epoch 68/100\n",
      "13/13 [==============================] - 0s 3ms/step - loss: 4.4463\n",
      "Epoch 69/100\n",
      "13/13 [==============================] - 0s 4ms/step - loss: 4.4345\n",
      "Epoch 70/100\n",
      "13/13 [==============================] - 0s 4ms/step - loss: 4.5070\n",
      "Epoch 71/100\n",
      "13/13 [==============================] - 0s 4ms/step - loss: 4.2937\n",
      "Epoch 72/100\n",
      "13/13 [==============================] - 0s 3ms/step - loss: 3.9388\n",
      "Epoch 73/100\n",
      "13/13 [==============================] - 0s 3ms/step - loss: 3.9193\n",
      "Epoch 74/100\n",
      "13/13 [==============================] - 0s 3ms/step - loss: 3.9354\n",
      "Epoch 75/100\n",
      "13/13 [==============================] - 0s 4ms/step - loss: 4.1683\n",
      "Epoch 76/100\n",
      "13/13 [==============================] - 0s 4ms/step - loss: 3.7708\n",
      "Epoch 77/100\n",
      "13/13 [==============================] - 0s 4ms/step - loss: 3.8527\n",
      "Epoch 78/100\n",
      "13/13 [==============================] - 0s 4ms/step - loss: 3.7636\n",
      "Epoch 79/100\n",
      "13/13 [==============================] - 0s 3ms/step - loss: 3.8577\n",
      "Epoch 80/100\n",
      "13/13 [==============================] - 0s 3ms/step - loss: 3.9248\n",
      "Epoch 81/100\n",
      "13/13 [==============================] - 0s 3ms/step - loss: 3.7713\n",
      "Epoch 82/100\n",
      "13/13 [==============================] - 0s 3ms/step - loss: 3.5910\n",
      "Epoch 83/100\n",
      "13/13 [==============================] - 0s 3ms/step - loss: 3.4876\n",
      "Epoch 84/100\n",
      "13/13 [==============================] - 0s 5ms/step - loss: 3.4125\n",
      "Epoch 85/100\n",
      "13/13 [==============================] - 0s 4ms/step - loss: 3.5649\n",
      "Epoch 86/100\n",
      "13/13 [==============================] - 0s 3ms/step - loss: 3.2793\n",
      "Epoch 87/100\n",
      "13/13 [==============================] - 0s 4ms/step - loss: 3.4637\n",
      "Epoch 88/100\n",
      "13/13 [==============================] - 0s 3ms/step - loss: 3.2442\n",
      "Epoch 89/100\n",
      "13/13 [==============================] - 0s 3ms/step - loss: 3.3609\n",
      "Epoch 90/100\n",
      "13/13 [==============================] - 0s 3ms/step - loss: 3.2050\n",
      "Epoch 91/100\n",
      "13/13 [==============================] - 0s 4ms/step - loss: 3.2151\n",
      "Epoch 92/100\n",
      "13/13 [==============================] - 0s 4ms/step - loss: 3.1565\n",
      "Epoch 93/100\n",
      "13/13 [==============================] - 0s 4ms/step - loss: 3.0954\n",
      "Epoch 94/100\n",
      "13/13 [==============================] - 0s 4ms/step - loss: 3.0090\n",
      "Epoch 95/100\n",
      "13/13 [==============================] - 0s 4ms/step - loss: 3.0584\n",
      "Epoch 96/100\n",
      "13/13 [==============================] - 0s 5ms/step - loss: 2.9780\n",
      "Epoch 97/100\n",
      "13/13 [==============================] - 0s 4ms/step - loss: 3.1982\n",
      "Epoch 98/100\n",
      "13/13 [==============================] - 0s 4ms/step - loss: 3.2917\n",
      "Epoch 99/100\n",
      "13/13 [==============================] - 0s 4ms/step - loss: 3.2894\n",
      "Epoch 100/100\n",
      "13/13 [==============================] - 0s 6ms/step - loss: 3.2022\n"
     ]
    },
    {
     "data": {
      "text/plain": [
       "<keras.callbacks.History at 0x2beb4f46fa0>"
      ]
     },
     "execution_count": 8,
     "metadata": {},
     "output_type": "execute_result"
    }
   ],
   "source": [
    "model.compile(optimizer='adam', loss='mse')\n",
    "model.fit(X_train_scaled, y_train, batch_size=32, epochs=100)"
   ]
  },
  {
   "cell_type": "code",
   "execution_count": 9,
   "id": "13ca31d9",
   "metadata": {},
   "outputs": [
    {
     "name": "stdout",
     "output_type": "stream",
     "text": [
      "4/4 [==============================] - 0s 673us/step - loss: 10.4590\n"
     ]
    },
    {
     "data": {
      "text/plain": [
       "10.45903205871582"
      ]
     },
     "execution_count": 9,
     "metadata": {},
     "output_type": "execute_result"
    }
   ],
   "source": [
    "loss=model.evaluate(X_test_scaled, y_test)\n",
    "loss"
   ]
  },
  {
   "cell_type": "code",
   "execution_count": 10,
   "id": "85d5ded1",
   "metadata": {},
   "outputs": [
    {
     "name": "stdout",
     "output_type": "stream",
     "text": [
      "4/4 [==============================] - 0s 4ms/step\n"
     ]
    }
   ],
   "source": [
    "pred=model.predict(X_test_scaled)"
   ]
  },
  {
   "cell_type": "code",
   "execution_count": 11,
   "id": "64711336",
   "metadata": {},
   "outputs": [
    {
     "data": {
      "text/plain": [
       "<AxesSubplot: xlabel='medv'>"
      ]
     },
     "execution_count": 11,
     "metadata": {},
     "output_type": "execute_result"
    },
    {
     "data": {
      "image/png": "[encoded data removed]",
      "text/plain": [
       "<Figure size 640x480 with 1 Axes>"
      ]
     },
     "metadata": {},
     "output_type": "display_data"
    }
   ],
   "source": [
    "sns.regplot(x=y_test, y=pred)"
   ]
  },
  {
   "cell_type": "code",
   "execution_count": null,
   "id": "33e7a4cc",
   "metadata": {},
   "outputs": [],
   "source": []
  }
 ],
 "metadata": {
  "kernelspec": {
   "display_name": "Python 3 (ipykernel)",
   "language": "python",
   "name": "python3"
  },
  "language_info": {
   "codemirror_mode": {
    "name": "ipython",
    "version": 3
   },
   "file_extension": ".py",
   "mimetype": "text/x-python",
   "name": "python",
   "nbconvert_exporter": "python",
   "pygments_lexer": "ipython3",
   "version": "3.9.7"
  }
 },
 "nbformat": 4,
 "nbformat_minor": 5
}
