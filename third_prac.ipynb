{
 "cells": [
  {
   "cell_type": "code",
   "execution_count": 1,
   "id": "c0ce04c4",
   "metadata": {},
   "outputs": [],
   "source": [
    "import pandas as pd\n",
    "import numpy as np"
   ]
  },
  {
   "cell_type": "code",
   "execution_count": 2,
   "id": "83f14707",
   "metadata": {},
   "outputs": [],
   "source": [
    "df_train=pd.read_csv(\"fashion-mnist_train.csv\")\n",
    "df_test=pd.read_csv(\"fashion-mnist_test.csv\")"
   ]
  },
  {
   "cell_type": "code",
   "execution_count": 3,
   "id": "a42740fa",
   "metadata": {},
   "outputs": [],
   "source": [
    "X_train=df_train.drop('label', axis=1)\n",
    "y_train=df_train['label']"
   ]
  },
  {
   "cell_type": "code",
   "execution_count": 4,
   "id": "4d3d4187",
   "metadata": {},
   "outputs": [],
   "source": [
    "X_test=df_test.drop('label', axis=1)\n",
    "y_test=df_test['label']"
   ]
  },
  {
   "cell_type": "code",
   "execution_count": 5,
   "id": "459556a4",
   "metadata": {},
   "outputs": [],
   "source": [
    "X_train, X_test, y_train, y_test= np.array(X_train), np.array(X_test), np.array(y_train), np.array(y_test)"
   ]
  },
  {
   "cell_type": "code",
   "execution_count": 6,
   "id": "a98e614f",
   "metadata": {},
   "outputs": [],
   "source": [
    "X_train_shaped=X_train.reshape(X_train.shape[0], 28, 28, 1).astype('float32')/255\n",
    "X_test_shaped=X_test.reshape(X_test.shape[0], 28, 28, 1).astype('float32')/255"
   ]
  },
  {
   "cell_type": "code",
   "execution_count": 7,
   "id": "956e69e0",
   "metadata": {},
   "outputs": [],
   "source": [
    "from tensorflow.keras.utils import to_categorical\n",
    "y_train_cat=to_categorical(y_train, 10)\n",
    "y_test_cat=to_categorical(y_test, 10)"
   ]
  },
  {
   "cell_type": "code",
   "execution_count": 8,
   "id": "5fdb9580",
   "metadata": {},
   "outputs": [],
   "source": [
    "from tensorflow.keras.models import Sequential\n",
    "from tensorflow.keras.layers import Flatten, Dense\n",
    "from tensorflow.keras.losses import CategoricalCrossentropy\n",
    "\n",
    "model=Sequential([\n",
    "    Flatten(input_shape=(28, 28)),\n",
    "    Dense(64, activation='relu'),\n",
    "    Dense(10)\n",
    "])"
   ]
  },
  {
   "cell_type": "code",
   "execution_count": 9,
   "id": "e28f9aca",
   "metadata": {},
   "outputs": [
    {
     "name": "stdout",
     "output_type": "stream",
     "text": [
      "Epoch 1/10\n",
      "469/469 [==============================] - 4s 5ms/step - loss: 0.6041 - accuracy: 0.7936\n",
      "Epoch 2/10\n",
      "469/469 [==============================] - 3s 5ms/step - loss: 0.4303 - accuracy: 0.8486\n",
      "Epoch 3/10\n",
      "469/469 [==============================] - 2s 5ms/step - loss: 0.3904 - accuracy: 0.8620\n",
      "Epoch 4/10\n",
      "469/469 [==============================] - 3s 5ms/step - loss: 0.3681 - accuracy: 0.8692\n",
      "Epoch 5/10\n",
      "469/469 [==============================] - 2s 5ms/step - loss: 0.3528 - accuracy: 0.8739\n",
      "Epoch 6/10\n",
      "469/469 [==============================] - 2s 5ms/step - loss: 0.3363 - accuracy: 0.8797\n",
      "Epoch 7/10\n",
      "469/469 [==============================] - 2s 4ms/step - loss: 0.3224 - accuracy: 0.8843\n",
      "Epoch 8/10\n",
      "469/469 [==============================] - 2s 4ms/step - loss: 0.3148 - accuracy: 0.8855\n",
      "Epoch 9/10\n",
      "469/469 [==============================] - 2s 4ms/step - loss: 0.3051 - accuracy: 0.8903\n",
      "Epoch 10/10\n",
      "469/469 [==============================] - 2s 4ms/step - loss: 0.2973 - accuracy: 0.8928\n"
     ]
    },
    {
     "data": {
      "text/plain": [
       "<keras.callbacks.History at 0x17ddec8ebe0>"
      ]
     },
     "execution_count": 9,
     "metadata": {},
     "output_type": "execute_result"
    }
   ],
   "source": [
    "model.compile(optimizer='adam', loss=CategoricalCrossentropy(from_logits=True), metrics=['accuracy'])\n",
    "model.fit(X_train_shaped, y_train_cat, batch_size=128, epochs=10)"
   ]
  },
  {
   "cell_type": "code",
   "execution_count": 10,
   "id": "b2775699",
   "metadata": {},
   "outputs": [
    {
     "name": "stdout",
     "output_type": "stream",
     "text": [
      "313/313 [==============================] - 1s 4ms/step - loss: 0.3493 - accuracy: 0.8751\n"
     ]
    },
    {
     "data": {
      "text/plain": [
       "(0.3493248224258423, 0.8751000165939331)"
      ]
     },
     "execution_count": 10,
     "metadata": {},
     "output_type": "execute_result"
    }
   ],
   "source": [
    "loss, acc=model.evaluate(X_test_shaped, y_test_cat)\n",
    "loss, acc"
   ]
  },
  {
   "cell_type": "code",
   "execution_count": 12,
   "id": "cf4c8bec",
   "metadata": {},
   "outputs": [
    {
     "name": "stdout",
     "output_type": "stream",
     "text": [
      "313/313 [==============================] - 1s 3ms/step\n",
      "              precision    recall  f1-score   support\n",
      "\n",
      "           0       0.77      0.90      0.83      1000\n",
      "           1       0.98      0.98      0.98      1000\n",
      "           2       0.75      0.87      0.80      1000\n",
      "           3       0.90      0.90      0.90      1000\n",
      "           4       0.75      0.87      0.81      1000\n",
      "           5       0.97      0.93      0.95      1000\n",
      "           6       0.87      0.43      0.58      1000\n",
      "           7       0.90      0.95      0.93      1000\n",
      "           8       0.96      0.97      0.97      1000\n",
      "           9       0.96      0.94      0.95      1000\n",
      "\n",
      "    accuracy                           0.88     10000\n",
      "   macro avg       0.88      0.88      0.87     10000\n",
      "weighted avg       0.88      0.88      0.87     10000\n",
      "\n"
     ]
    }
   ],
   "source": [
    "from sklearn.metrics import classification_report\n",
    "y_pred=model.predict(X_test_shaped)\n",
    "\n",
    "y_pred_labels=np.argmax(y_pred, axis=1)\n",
    "y_test_labels=np.argmax(y_test_cat, axis=1)\n",
    "\n",
    "print(classification_report(y_test_labels, y_pred_labels))"
   ]
  },
  {
   "cell_type": "code",
   "execution_count": 17,
   "id": "26468eaa",
   "metadata": {},
   "outputs": [
    {
     "name": "stdout",
     "output_type": "stream",
     "text": [
      "1/1 [==============================] - 0s 52ms/step\n",
      "sandal\n"
     ]
    },
    {
     "data": {
      "image/png": "[encoded data removed]",
      "text/plain": [
       "<Figure size 640x480 with 1 Axes>"
      ]
     },
     "metadata": {},
     "output_type": "display_data"
    }
   ],
   "source": [
    "import matplotlib.pyplot as plt\n",
    "def predict(id):\n",
    "    labels=['t_shirt', 'trouser', 'pullover', 'dress', 'coat', 'sandal', 'shirt', 'sneaker', 'bag', 'ankle_boots']\n",
    "    pred=model.predict(X_test_shaped[id:id+1])\n",
    "    pred_lab=labels[np.argmax(pred)]\n",
    "    print(pred_lab)\n",
    "    plt.imshow(X_test_shaped[id])\n",
    "    plt.axis(\"off\")\n",
    "    \n",
    "predict(8)"
   ]
  },
  {
   "cell_type": "code",
   "execution_count": null,
   "id": "a4ba9bca",
   "metadata": {},
   "outputs": [],
   "source": []
  }
 ],
 "metadata": {
  "kernelspec": {
   "display_name": "Python 3 (ipykernel)",
   "language": "python",
   "name": "python3"
  },
  "language_info": {
   "codemirror_mode": {
    "name": "ipython",
    "version": 3
   },
   "file_extension": ".py",
   "mimetype": "text/x-python",
   "name": "python",
   "nbconvert_exporter": "python",
   "pygments_lexer": "ipython3",
   "version": "3.9.7"
  }
 },
 "nbformat": 4,
 "nbformat_minor": 5
}
